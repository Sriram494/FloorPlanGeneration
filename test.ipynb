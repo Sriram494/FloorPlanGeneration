{
 "cells": [
  {
   "cell_type": "code",
   "execution_count": 1,
   "metadata": {},
   "outputs": [
    {
     "name": "stderr",
     "output_type": "stream",
     "text": [
      "c:\\Users\\K.Sriram\\AppData\\Local\\Programs\\Python\\Python311\\Lib\\site-packages\\tqdm\\auto.py:21: TqdmWarning: IProgress not found. Please update jupyter and ipywidgets. See https://ipywidgets.readthedocs.io/en/stable/user_install.html\n",
      "  from .autonotebook import tqdm as notebook_tqdm\n"
     ]
    }
   ],
   "source": [
    "# for data wrangling\n",
    "import pickle\n",
    "import networkx as nx\n",
    "import matplotlib.pyplot as plt\n",
    "import numpy as np\n",
    "import pandas as pd\n",
    "import distinctipy\n",
    "import random\n",
    "from torch_geometric.utils import from_networkx\n",
    "import geopandas as gpd\n",
    "from shapely import Point, Polygon, MultiPolygon, box, unary_union\n",
    "\n",
    "# to show advance in for loops\n",
    "from tqdm import tqdm\n",
    "from collections import defaultdict\n",
    "\n",
    "# Using pytorch geometric\n",
    "import torch\n",
    "import torch.nn as nn\n",
    "from torch_geometric.loader import DataLoader\n",
    "from torch.utils.data import Dataset\n",
    "import torch_geometric.transforms as T\n",
    "\n",
    "\n",
    "# For the GNN model\n",
    "import torch.nn.functional as F\n",
    "from torch_geometric.nn import GATConv\n",
    "\n",
    "\n",
    "# for my pc [linux]\n",
    "# url = '/media/mo/DATA/Grad/Planify_Dataset/Graph/Planify_Graphs.pkl'\n",
    "\n",
    "# for my pc [windows]\n",
    "# url = \"D:\\Grad\\Planify_Dataset\\Graph\\Planify_Graphs.pkl\"\n",
    "url_living_to_all = \"C:\\\\Users\\\\K.Sriram\\\\Downloads\\\\archive\\\\Planify_Graphs_Scaled\\\\Planify_Graphs_Scaled\\\\Graphs_living_to_all.pkl\"\n",
    "\n",
    "url_boundary = \"C:\\\\Users\\\\K.Sriram\\\\Downloads\\\\archive\\\\Planify_Graphs_Scaled\\\\Planify_Graphs_Scaled\\\\boundaries.pkl\"\n",
    "model_path = \"C:\\\\Users\\\\K.Sriram\\\\Downloads\\\\archive\\\\checkpoints\\\\Best_model_V3.pt\"\n"
   ]
  },
  {
   "cell_type": "code",
   "execution_count": 2,
   "metadata": {},
   "outputs": [],
   "source": [
    "geoms_columns = ['inner', 'living', 'master', 'kitchen', 'bathroom', 'dining', 'child', 'study',\n",
    "                   'second_room', 'guest', 'balcony', 'storage', 'wall-in',\n",
    "                    'outer_wall', 'front', 'inner_wall', 'interior',\n",
    "                   'front_door', 'outer_wall', 'entrance']\n",
    "\n",
    "N = len(geoms_columns)\n",
    "colors = (np.array(distinctipy.get_colors(N)) * 255).astype(np.uint8)\n",
    "room_color = {room_name: colors[i] for i, room_name in enumerate(geoms_columns)}"
   ]
  },
  {
   "cell_type": "code",
   "execution_count": 3,
   "metadata": {},
   "outputs": [],
   "source": [
    "def draw_graph_nodes(G, living_to_all=False):\n",
    "    #  nodes positions for drawing, note that we invert the y pos\n",
    "    pos = {node: (G.nodes[node]['actualCentroid_x'], -G.nodes[node]['actualCentroid_y']) for node in G.nodes}\n",
    "    \n",
    "    scales = [G.nodes[node]['roomSize'] * 10000 for node in G] \n",
    "    color_map = [room_color[G.nodes[node]['roomType_name']]/255 for node in G]\n",
    "    edge_labels = nx.get_edge_attributes(G, 'distance')\n",
    "\n",
    "    \n",
    "    nx.draw_networkx_nodes(G, pos=pos, node_size=scales, node_color=color_map);\n",
    "    nx.draw_networkx_edges(G, pos=pos, edge_color='b');\n",
    "    nx.draw_networkx_labels(G, pos=pos, font_size=8);\n",
    "\n",
    "    if living_to_all:\n",
    "        nx.draw_networkx_edge_labels(G, pos=pos, edge_labels=edge_labels)\n",
    "\n",
    "    \n",
    "    # # Drawing the graph inside a good boundary.\n",
    "    # x_coords  = [pos[node][0] for node in pos]\n",
    "    # y_coords  = [pos[node][1] for node in pos]\n",
    "    # threshold = max(scales) / 100\n",
    "    \n",
    "    # plt.xlim(min(x_coords) - threshold, max(x_coords) + threshold)\n",
    "    plt.xlim(-10, 266)\n",
    "    plt.ylim(-266, 10)\n",
    "\n",
    "def draw_graph_boundary(G):\n",
    "    #  nodes positions for drawing, note that we invert the y pos\n",
    "    pos = {node: (G.nodes[node]['centroid'][0], -G.nodes[node]['centroid'][1])  for node in G.nodes}\n",
    "    \n",
    "    door_color = '#90EE90'\n",
    "    other_nodes_color = '#0A2A5B'\n",
    "    color_map = [door_color if G.nodes[node]['type'] == 1 else other_nodes_color for node in G.nodes]\n",
    "    \n",
    "    # nx.draw(G, pos=pos, with_labels=True, node_color=color_map, font_color='w', font_size=12)\n",
    "    nx.draw_networkx_nodes(G, pos=pos, node_size=150, node_color=color_map);\n",
    "    nx.draw_networkx_edges(G, pos=pos)\n",
    "    \n",
    "    plt.xlim(-10, 266)\n",
    "    plt.ylim(-266, 10)\n"
   ]
  },
  {
   "cell_type": "code",
   "execution_count": 4,
   "metadata": {},
   "outputs": [],
   "source": [
    "# For statistics\n",
    "def get_max_min_x_y(graphs):\n",
    "    max_x = 0\n",
    "    max_y = 0\n",
    "    min_x = float('inf')\n",
    "    min_y = float('inf')\n",
    "    \n",
    "    for G in tqdm(graphs, desc=\"Getting maximum x, y\", total=len(graphs)):\n",
    "        max_x_in_graph = G.x.T[1].max().item()\n",
    "        max_y_in_graph = G.x.T[2].max().item()\n",
    "        \n",
    "        min_x_in_graph = G.x.T[1].min().item()\n",
    "        min_y_in_graph = G.x.T[2].min().item()\n",
    "        \n",
    "        if max_x_in_graph > max_x:\n",
    "            max_x = max_x_in_graph\n",
    "        if max_y_in_graph > max_y:\n",
    "            max_y = max_y_in_graph\n",
    "            \n",
    "        if min_x_in_graph < min_x:\n",
    "            min_x = min_x_in_graph\n",
    "        if min_y_in_graph < min_y:\n",
    "            min_y = min_y_in_graph\n",
    "            \n",
    "    values = {'max_x': max_x, 'max_y': max_y, 'min_x': min_x, 'min_y': min_y}\n",
    "    return values\n",
    "\n",
    "\n",
    "def get_all_x_y(Graphs_pyTorch):\n",
    "    \"\"\"Get all values of x and y from all graphs\n",
    "        Input: list of graphs\n",
    "        Output: x and y as pandas series\n",
    "    \"\"\"\n",
    "    x = []\n",
    "    y = []\n",
    "\n",
    "    for G in tqdm(Graphs_pyTorch, desc=\"getting all Xs, Ys\", total=len(Graphs_pyTorch)):\n",
    "        for i in range(len(G.x)):\n",
    "            x.append(G.x[i][1].item())\n",
    "            y.append(G.x[i][2].item())\n",
    "\n",
    "    x = pd.Series(x)\n",
    "    y = pd.Series(y)\n",
    "\n",
    "    return x, y\n",
    "\n",
    "def boxplot_centrValues(x, y):\n",
    "    fig, ax = plt.subplots()\n",
    "\n",
    "    # Plot the boxplots\n",
    "    ax.boxplot([x, y])\n",
    "\n",
    "    # Set the xtick labels\n",
    "    ax.set_xticklabels(['x', 'y'])\n",
    "\n",
    "    # Add axis labels and title\n",
    "    ax.set_xlabel('Data')\n",
    "    ax.set_ylabel('Value')\n",
    "    ax.set_title('Boxplot of x and y in all graphs')\n",
    "\n",
    "    # Show the plot\n",
    "    plt.show()\n",
    "    \n",
    "\n",
    "def plot_histograms(x, y):\n",
    "    x.hist(density=True, bins=100, alpha=0.6, label='x');\n",
    "    y.hist(density=True, bins=100, alpha=0.3, label='y');\n",
    "    plt.legend();\n",
    "    plt.title('Distribution of x and y');"
   ]
  },
  {
   "cell_type": "code",
   "execution_count": 5,
   "metadata": {},
   "outputs": [
    {
     "name": "stdout",
     "output_type": "stream",
     "text": [
      "Graph with 8 nodes and 7 edges\n"
     ]
    }
   ],
   "source": [
    "with open(url_living_to_all, 'rb') as f:\n",
    "    Graphs = pickle.load(f)\n",
    "    \n",
    "G = Graphs[1911]\n",
    "print(G)"
   ]
  },
  {
   "cell_type": "code",
   "execution_count": 6,
   "metadata": {},
   "outputs": [
    {
     "name": "stdout",
     "output_type": "stream",
     "text": [
      "Graph with 9 nodes and 9 edges\n"
     ]
    }
   ],
   "source": [
    "with open(url_boundary, 'rb') as f:\n",
    "    boundaries = pickle.load(f)\n",
    "    \n",
    "b = boundaries[1911]\n",
    "print(b)"
   ]
  },
  {
   "cell_type": "code",
   "execution_count": 7,
   "metadata": {},
   "outputs": [
    {
     "name": "stderr",
     "output_type": "stream",
     "text": [
      "  0%|          | 0/80787 [00:00<?, ?it/s]"
     ]
    },
    {
     "name": "stderr",
     "output_type": "stream",
     "text": [
      "100%|██████████| 80787/80787 [01:04<00:00, 1254.97it/s]\n"
     ]
    },
    {
     "data": {
      "text/plain": [
       "Data(edge_index=[2, 8], roomType_name=[5], rec_w=[5], rec_h=[5], roomSize=[5], x=[5, 3], edge_attr=[8, 1])"
      ]
     },
     "execution_count": 7,
     "metadata": {},
     "output_type": "execute_result"
    }
   ],
   "source": [
    "# Converting networkx graphs to pytorchGeo graphs\n",
    "features = ['roomType_embd', 'actualCentroid_x', 'actualCentroid_y']\n",
    "Graphs_pyTorch = []\n",
    "for G in tqdm(Graphs):\n",
    "    G_new = from_networkx(G, group_node_attrs=features, group_edge_attrs=['distance'])\n",
    "    # Normalizing feature matrix (x)\n",
    "    # G_new = T.NormalizeFeatures()(G_new)\n",
    "    \n",
    "    Graphs_pyTorch.append(G_new)\n",
    "    \n",
    "Graphs_pyTorch[0]"
   ]
  },
  {
   "cell_type": "code",
   "execution_count": 8,
   "metadata": {},
   "outputs": [
    {
     "name": "stderr",
     "output_type": "stream",
     "text": [
      "100%|██████████| 80787/80787 [00:38<00:00, 2081.68it/s]\n"
     ]
    },
    {
     "data": {
      "text/plain": [
       "Data(edge_index=[2, 18], x=[9, 3], edge_attr=[18, 1])"
      ]
     },
     "execution_count": 8,
     "metadata": {},
     "output_type": "execute_result"
    }
   ],
   "source": [
    "# Converting networkx boundary graphs to PyTorchGeo graphs\n",
    "Boundaries_pyTorch = []\n",
    "for b in tqdm(boundaries):\n",
    "    b_new = from_networkx(b, group_node_attrs=['type', 'centroid'], group_edge_attrs=['distance'])\n",
    "    \n",
    "    Boundaries_pyTorch.append(b_new)\n",
    "    \n",
    "Boundaries_pyTorch[0]"
   ]
  },
  {
   "cell_type": "code",
   "execution_count": 9,
   "metadata": {},
   "outputs": [
    {
     "name": "stderr",
     "output_type": "stream",
     "text": [
      "Getting maximum x, y: 100%|██████████| 80787/80787 [00:02<00:00, 33059.56it/s]\n"
     ]
    },
    {
     "data": {
      "text/plain": [
       "{'max_x': 247.42583732057415,\n",
       " 'max_y': 247.84313725490196,\n",
       " 'min_x': 10.666666666666666,\n",
       " 'min_y': 8.577319587628866}"
      ]
     },
     "execution_count": 9,
     "metadata": {},
     "output_type": "execute_result"
    }
   ],
   "source": [
    "# getting maximum and minimum x, y for all graphs\n",
    "get_max_min_x_y(Graphs_pyTorch)"
   ]
  },
  {
   "cell_type": "code",
   "execution_count": 10,
   "metadata": {},
   "outputs": [
    {
     "name": "stderr",
     "output_type": "stream",
     "text": [
      "getting all Xs, Ys: 100%|██████████| 80787/80787 [00:06<00:00, 12963.59it/s]\n"
     ]
    },
    {
     "data": {
      "text/plain": [
       "(247.42583732057415, 247.84313725490196, 10.666666666666666, 8.577319587628866)"
      ]
     },
     "execution_count": 10,
     "metadata": {},
     "output_type": "execute_result"
    }
   ],
   "source": [
    "x_g, y_g = get_all_x_y(Graphs_pyTorch)\n",
    "x_g.max(), y_g.max(), x_g.min(), y_g.min()"
   ]
  },
  {
   "cell_type": "code",
   "execution_count": 11,
   "metadata": {},
   "outputs": [
    {
     "name": "stdout",
     "output_type": "stream",
     "text": [
      "And we saw the box plots so there is no outliers, and the distribution is normal\n",
      "We will use z-score normalization\n"
     ]
    }
   ],
   "source": [
    "# print(f\"Maximun x: {max_x}, Maximum y: {max_y}, Minimum x: {min_x}, Minimum y: {min_y}\")\n",
    "print(\"And we saw the box plots so there is no outliers, and the distribution is normal\")\n",
    "x_g_mean = x_g.mean()\n",
    "y_g_mean = y_g.mean()\n",
    "x_g_std  = x_g.std()\n",
    "y_g_std  = y_g.std()\n",
    "print(\"We will use z-score normalization\")\n"
   ]
  },
  {
   "cell_type": "code",
   "execution_count": 12,
   "metadata": {},
   "outputs": [
    {
     "name": "stdout",
     "output_type": "stream",
     "text": [
      "Befor: G_1 embedings are: tensor([[  0.0000, 114.4449, 153.2065],\n",
      "        [  1.0000, 207.2296, 196.9931],\n",
      "        [  2.0000,  26.6358,  34.7746],\n",
      "        [  3.0000, 222.7052, 140.5780],\n",
      "        [  3.0000, 117.2607, 101.8013],\n",
      "        [  7.0000, 163.5824, 101.4260],\n",
      "        [  7.0000, 134.9086, 201.0376]], dtype=torch.float64)\n"
     ]
    },
    {
     "name": "stderr",
     "output_type": "stream",
     "text": [
      "100%|██████████| 80787/80787 [00:05<00:00, 14315.83it/s]\n"
     ]
    }
   ],
   "source": [
    "print(f'Befor: G_1 embedings are: {Graphs_pyTorch[1].x}')\n",
    "for G in tqdm(Graphs_pyTorch, total=len(Graphs_pyTorch)):\n",
    "    for j ,value in enumerate(G.x):\n",
    "        type_ = int(value[0].item())\n",
    "        \n",
    "        if type_ in [1, 4, 5, 6, 7, 8]:\n",
    "            G.x[j][0] = 1\n",
    "        \n",
    "        # making all labels from 0 to 6 only to help one_hotting\n",
    "        elif type_ == 9:\n",
    "            G.x[j][0] = 4\n",
    "        elif type_ == 10:\n",
    "            G.x[j][0] = 5\n",
    "        elif type_ == 11:\n",
    "            G.x[j][0] = 6"
   ]
  },
  {
   "cell_type": "code",
   "execution_count": 13,
   "metadata": {},
   "outputs": [
    {
     "name": "stderr",
     "output_type": "stream",
     "text": [
      "100%|██████████| 80787/80787 [00:12<00:00, 6364.80it/s]\n"
     ]
    }
   ],
   "source": [
    "for G in tqdm(Graphs_pyTorch, total=len(Graphs_pyTorch)):\n",
    "    x = G.x # The feature matrix\n",
    "    for i in [1, 2]:\n",
    "        # mean = torch.mean(x[:, i])\n",
    "        # std  = torch.std(x[:, i])\n",
    "        if i == 1: # x\n",
    "            mean = x_g_mean\n",
    "            std  = x_g_std\n",
    "        else: # y\n",
    "            mean = y_g_mean\n",
    "            std  = y_g_std\n",
    "            \n",
    "        normalized_column = (x[:, i] - mean) / std\n",
    "        G.x[:, i] = normalized_column\n",
    "    \n",
    "    # One hot encoding for the first column [type of rooms]\n",
    "    first_column_encodings = F.one_hot(G.x[:, 0].long(), 7)\n",
    "    \n",
    "    G.x = torch.cat([first_column_encodings, G.x[:, 1:]], axis=1)"
   ]
  },
  {
   "cell_type": "code",
   "execution_count": 14,
   "metadata": {},
   "outputs": [
    {
     "name": "stdout",
     "output_type": "stream",
     "text": [
      "Now, we could return back to real values for last column: tensor([153.2065, 196.9931,  34.7746, 140.5780, 101.8013, 101.4260, 201.0376],\n",
      "       dtype=torch.float64)\n"
     ]
    }
   ],
   "source": [
    "print(f\"Now, we could return back to real values for last column: {Graphs_pyTorch[1].x.T[-1] * y_g_std + y_g_mean}\")"
   ]
  },
  {
   "cell_type": "code",
   "execution_count": 15,
   "metadata": {},
   "outputs": [
    {
     "name": "stderr",
     "output_type": "stream",
     "text": [
      "getting all Xs, Ys: 100%|██████████| 80787/80787 [00:12<00:00, 6452.87it/s]\n"
     ]
    },
    {
     "data": {
      "text/plain": [
       "(340.0875912408759, 306.0, -57.6, -86.6771653543307)"
      ]
     },
     "execution_count": 15,
     "metadata": {},
     "output_type": "execute_result"
    }
   ],
   "source": [
    "x, y = get_all_x_y(Boundaries_pyTorch)\n",
    "x.max(), y.max(), x.min(), y.min()"
   ]
  },
  {
   "cell_type": "code",
   "execution_count": 16,
   "metadata": {},
   "outputs": [
    {
     "name": "stdout",
     "output_type": "stream",
     "text": [
      "And we saw the box plots so there is no outliers, and the distribution is normal\n",
      "We will use z-score normalization\n"
     ]
    }
   ],
   "source": [
    "# print(f\"Maximun x: {max_x}, Maximum y: {max_y}, Minimum x: {min_x}, Minimum y: {min_y}\")\n",
    "print(\"And we saw the box plots so there is no outliers, and the distribution is normal\")\n",
    "x_b_mean = x.mean()\n",
    "y_b_mean = y.mean()\n",
    "x_b_std  = x.std()\n",
    "y_b_std  = y.std()\n",
    "print(\"We will use z-score normalization\")"
   ]
  },
  {
   "cell_type": "code",
   "execution_count": 17,
   "metadata": {},
   "outputs": [
    {
     "name": "stderr",
     "output_type": "stream",
     "text": [
      "100%|██████████| 80787/80787 [00:05<00:00, 14032.38it/s]\n"
     ]
    }
   ],
   "source": [
    "for b in tqdm(Boundaries_pyTorch, total=len(Boundaries_pyTorch)):\n",
    "    x = b.x # The feature matrix\n",
    "    for i in [1, 2]:\n",
    "        if i == 1: # for first column [x]\n",
    "            mean = x_b_mean\n",
    "            std  = x_b_std\n",
    "        else: # for second column [y]\n",
    "            mean = y_b_mean\n",
    "            std  = y_b_std\n",
    "            \n",
    "        normalized_column = (x[:, i] - mean) / std\n",
    "        b.x[:, i] = normalized_column"
   ]
  },
  {
   "cell_type": "code",
   "execution_count": 18,
   "metadata": {},
   "outputs": [],
   "source": [
    "class Planify_Dataset(Dataset):\n",
    "    def __init__(self, Graphs, Boundaries):\n",
    "        self.Graphs = Graphs\n",
    "        self.Boundaries = Boundaries\n",
    "        self.device = torch.device('cuda' if torch.cuda.is_available() else 'cpu')\n",
    "    \n",
    "    def __len__(self):\n",
    "        return len(self.Graphs)\n",
    "\n",
    "    def __getitem__(self, index):\n",
    "        G = self.Graphs[index].clone().to(self.device)\n",
    "        B = self.Boundaries[index].clone().to(self.device)\n",
    "        B.x = B.x.to(G.x.dtype)\n",
    "        B.edge_index = B.edge_index.to(G.edge_index.dtype)\n",
    "        B.edge_attr = B.edge_attr.to(G.edge_attr.dtype)\n",
    "        \n",
    "        # shuffling nodes inside the same graph\n",
    "        # permutation = torch.randperm(G.num_nodes).to(self.device)\n",
    "        \n",
    "        # G.x = G.x[permutation]\n",
    "        # G.edge_index = permutation[G.edge_index]\n",
    "        # G.rec_w = G.rec_w[permutation]\n",
    "        # G.rec_h = G.rec_h[permutation]\n",
    "        # G.edge_attr = G.edge_attr[permutation]\n",
    "        \n",
    "        # padded_x = torch.nn.functional.pad(x, pad=(0, 0, 0, 8 - nu_nodes), mode='constant', value=0)\n",
    "        # padded_y = torch.nn.functional.pad(y, pad=(0, 8 - nu_nodes), mode='constant', value=0)\n",
    "        graphs = {\n",
    "            'G': G,\n",
    "            'B': B\n",
    "        }\n",
    "        \n",
    "        return graphs"
   ]
  },
  {
   "cell_type": "code",
   "execution_count": 19,
   "metadata": {},
   "outputs": [],
   "source": [
    "\n",
    "edge = int(len(Graphs_pyTorch) * 0.8)\n",
    "batch_size = 1\n",
    "train_dataset = Planify_Dataset(Graphs_pyTorch[:edge], Boundaries_pyTorch[:edge])\n",
    "train_loader  = DataLoader(train_dataset, batch_size=batch_size, shuffle=True)\n",
    "\n",
    "val_dataset = Planify_Dataset(Graphs_pyTorch[edge:-10], Boundaries_pyTorch[edge:-10])\n",
    "val_loader  = DataLoader(val_dataset, batch_size=batch_size, shuffle=True)\n",
    "\n",
    "test_dataset = Planify_Dataset(Graphs_pyTorch[-10:], Boundaries_pyTorch[-10:])\n",
    "test_loader  = DataLoader(test_dataset, batch_size=batch_size, shuffle=False)\n",
    "# Saving model function\n",
    "import os\n",
    "\n",
    "# checkpoint_dir = '/kaggle/working/checkpoints'\n",
    "# checkpoint_dir = '/media/mo/DATA/Grad/Planify_Dataset/Graph/checkpoints'\n",
    "checkpoint_dir = \"./checkpoints\"\n",
    "\n",
    "if not os.path.exists(checkpoint_dir):\n",
    "    os.makedirs(checkpoint_dir)\n",
    "    \n",
    "\n",
    "def save_checkpoint(model, optimizer, epoch):\n",
    "    checkpoint_path = os.path.join(checkpoint_dir, f'model_epoch.pt')\n",
    "    # Saving model each 15 epochs\n",
    "    torch.save({\n",
    "        'model_state_dict': model.state_dict(),\n",
    "        'optimizer_state_dict': optimizer.state_dict(),\n",
    "        'epoch': epoch\n",
    "    }, checkpoint_path)\n",
    "    \n",
    "    print('Model saved :)')"
   ]
  },
  {
   "cell_type": "code",
   "execution_count": 20,
   "metadata": {},
   "outputs": [
    {
     "data": {
      "text/plain": [
       "GATNet(\n",
       "  (graph_conv1): GATConv(9, 32, heads=4)\n",
       "  (graph_conv2): GATConv(137, 32, heads=8)\n",
       "  (graph_conv3): GATConv(265, 64, heads=8)\n",
       "  (graph_conv4): GATConv(521, 128, heads=8)\n",
       "  (boundary_conv1): GATConv(3, 32, heads=4)\n",
       "  (boundary_conv2): GATConv(131, 32, heads=8)\n",
       "  (Concatination1): GATConv(1292, 128, heads=8)\n",
       "  (width_layer1): Linear(in_features=1024, out_features=128, bias=True)\n",
       "  (height_layer1): Linear(in_features=1024, out_features=128, bias=True)\n",
       "  (width_output): Linear(in_features=128, out_features=1, bias=True)\n",
       "  (height_output): Linear(in_features=128, out_features=1, bias=True)\n",
       "  (boundary_pool): AdaptiveAvgPool1d(output_size=1)\n",
       "  (dropout): Dropout(p=0.2, inplace=False)\n",
       ")"
      ]
     },
     "execution_count": 20,
     "metadata": {},
     "output_type": "execute_result"
    }
   ],
   "source": [
    "class GATNet(torch.nn.Module):\n",
    "    def __init__(self, num_graph_node_features, num_boundary_node_features):\n",
    "        super(GATNet, self).__init__()\n",
    "        \n",
    "        self.graph_conv1 = GATConv(num_graph_node_features, 32, heads=4)\n",
    "        \n",
    "        input_of_conv2   = num_graph_node_features + 32*4\n",
    "        self.graph_conv2 = GATConv(input_of_conv2, 32, heads=8)\n",
    "        \n",
    "        input_of_conv3   = num_graph_node_features + 32*8\n",
    "        self.graph_conv3 = GATConv(input_of_conv3, 64, heads=8)\n",
    "        \n",
    "        input_of_conv4   = num_graph_node_features + 64*8\n",
    "        self.graph_conv4 = GATConv(input_of_conv4, 128, heads=8)\n",
    "        # self.graph_conv5 = GATConv(128*8, 128, heads=8)\n",
    "        # self.graph_conv6 = GATConv(128*8, 128, heads=16)\n",
    "        # self.graph_conv7 = GATConv(128*16, 256, heads=16)\n",
    "        # self.graph_conv8 = GATConv(256*16, 256, heads=16)\n",
    "        shape_of_graphs_befor_concatination = num_graph_node_features + 128*8\n",
    "        \n",
    "        self.boundary_conv1 = GATConv(num_boundary_node_features, 32, heads=4)\n",
    "        input_of_boundary_conv2 = 32*4 + num_boundary_node_features\n",
    "        self.boundary_conv2 = GATConv(input_of_boundary_conv2, 32, heads=8)\n",
    "        # self.boundary_conv3 = GATConv(32*8, 64, heads=8)\n",
    "        # self.boundary_conv4 = GATConv(64*8, 128, heads=8)\n",
    "        # self.boundary_conv5 = GATConv(128*8, 128, heads=8)\n",
    "        shape_of_boundary_befor_concatination = num_boundary_node_features + 32 * 8\n",
    "        \n",
    "        # Output of graph_conv8 + output of boundary_conv5 + 2 step connection from real nodes and boundary nodes\n",
    "        inputs_concatination = shape_of_graphs_befor_concatination + shape_of_boundary_befor_concatination\n",
    "        self.Concatination1  = GATConv(inputs_concatination, 128, heads=8)\n",
    "        # self.Concatination2  = GATConv(128*8, 64, heads=8)\n",
    "        # self.Concatination3  = GATConv(64*8, 64, heads=8)\n",
    "        # self.Concatination4  = GATConv(64*8, 32, heads=8)\n",
    "        # self.Concatination5  = GATConv(32*8, 32*4)\n",
    "        \n",
    "        # self.lin1 = nn.Linear(inputs_concatination, 256)\n",
    "        # self.lin2 = nn.Linear(256, 32)\n",
    "\n",
    "        self.width_layer1  = nn.Linear(128*8, 128)\n",
    "        self.height_layer1 = nn.Linear(128*8, 128)\n",
    "        \n",
    "        # self.width_layer2  = nn.Linear(256, 128)\n",
    "        # self.height_layer2 = nn.Linear(256, 128)\n",
    "        \n",
    "        # self.width_layer3  = nn.Linear(128, 32)\n",
    "        # self.height_layer3 = nn.Linear(128, 32)\n",
    "        \n",
    "        # self.width_layer4  = nn.Linear(32, 8)\n",
    "        # self.height_layer4 = nn.Linear(32, 8)\n",
    "        \n",
    "        self.width_output  = nn.Linear(128, 1)\n",
    "        self.height_output = nn.Linear(128, 1)\n",
    "        \n",
    "        \n",
    "        self.boundary_pool = torch.nn.AdaptiveAvgPool1d(1)\n",
    "        self.dropout = torch.nn.Dropout(0.2)\n",
    "        \n",
    "    def forward(self, graph, boundary):\n",
    "        x_graph, g_edge_index, g_edge_attr, g_batch = graph.x.to(torch.float32), graph.edge_index, graph.edge_attr, graph.batch\n",
    "        x_boundary, b_edge_indexy, b_edge_attr, b_batch = boundary.x.to(torch.float32), boundary.edge_index, boundary.edge_attr, boundary.batch\n",
    "        \n",
    "        NUM_OF_NODES = x_graph.shape[0]\n",
    "        # During testing, as we input only one graph.\n",
    "        if g_batch == None:\n",
    "            g_batch = torch.zeros(x_graph.shape[0], dtype=torch.long)\n",
    "        if b_batch == None:\n",
    "            b_batch = torch.zeros(x_boundary.shape[0], dtype=torch.long)\n",
    "        \n",
    "        \n",
    "        x_graph_res = x_graph\n",
    "        x_boundary_res = x_boundary\n",
    "        \n",
    "        # Passing the graph throught a message passing to embed its features\n",
    "        x_graph = F.leaky_relu(self.graph_conv1(x_graph, g_edge_index, g_edge_attr))\n",
    "        x_graph = self.dropout(x_graph) # Concatinate with step connection from real values.\n",
    "        x_graph = torch.cat([x_graph, x_graph_res], dim=1)\n",
    "        \n",
    "        \n",
    "        x_graph = F.leaky_relu(self.graph_conv2(x_graph, g_edge_index, g_edge_attr))\n",
    "        x_graph = self.dropout(x_graph)\n",
    "        x_graph = torch.cat([x_graph, x_graph_res], dim=1)\n",
    "        \n",
    "        x_graph = F.leaky_relu(self.graph_conv3(x_graph, g_edge_index))\n",
    "        x_graph = self.dropout(x_graph) \n",
    "        x_graph = torch.cat([x_graph, x_graph_res], dim=1)\n",
    "        \n",
    "        x_graph = F.leaky_relu(self.graph_conv4(x_graph, g_edge_index))\n",
    "        x_graph = self.dropout(x_graph) \n",
    "        x_graph = torch.cat([x_graph, x_graph_res], dim=1)\n",
    "        \n",
    "        # x_graph = F.leaky_relu(self.graph_conv5(x_graph, g_edge_index))\n",
    "        # x_graph = F.leaky_relu(self.graph_conv6(x_graph, g_edge_index))\n",
    "        # x_graph = self.dropout(x_graph)\n",
    "        # x_graph = F.leaky_relu(self.graph_conv7(x_graph, g_edge_index))\n",
    "        # x_graph = F.leaky_relu(self.graph_conv8(x_graph, g_edge_index))\n",
    "        # x_graph = self.dropout(x_graph)\n",
    "        \n",
    "        \n",
    "        # Passing the boundary throught a message passing to embed its features\n",
    "        x_boundary = F.leaky_relu(self.boundary_conv1(x_boundary, b_edge_indexy, b_edge_attr))\n",
    "        x_boundary = self.dropout(x_boundary)\n",
    "        x_boundary = torch.cat([x_boundary, x_boundary_res], dim=1)\n",
    "        \n",
    "        x_boundary = F.leaky_relu(self.boundary_conv2(x_boundary, b_edge_indexy, b_edge_attr))\n",
    "        x_boundary = self.dropout(x_boundary)\n",
    "        x_boundary = torch.cat([x_boundary, x_boundary_res], dim=1)\n",
    "        \n",
    "        # x_boundary = F.leaky_relu(self.boundary_conv3(x_boundary, b_edge_indexy))\n",
    "        # x_boundary = self.dropout(x_boundary)\n",
    "        # x_boundary = F.leaky_relu(self.boundary_conv4(x_boundary, b_edge_indexy))\n",
    "        # x_boundary = F.leaky_relu(self.boundary_conv5(x_boundary, b_edge_indexy))\n",
    "        # x_boundary = self.dropout(x_boundary)\n",
    "\n",
    "        # Pooling the bounadry to 1D vector by getting max value in each feature for all nodes.\n",
    "        x_boundary_pooled = F.max_pool1d(x_boundary.transpose(0, 1), kernel_size=x_boundary.shape[0]).view(1, -1)\n",
    "        \n",
    "        # Concatinating the graph & the boundary\n",
    "        x = torch.cat([x_graph, x_boundary_pooled.repeat(NUM_OF_NODES, 1)], dim=1)\n",
    "        x = F.leaky_relu(self.Concatination1(x, g_edge_index))\n",
    "        x = self.dropout(x)\n",
    "        # x = F.leaky_relu(self.Concatination2(x, g_edge_index))\n",
    "        # x = self.dropout(x)\n",
    "        # x = F.leaky_relu(self.Concatination3(x, g_edge_index))\n",
    "        # x = self.dropout(x)\n",
    "        # x = F.leaky_relu(self.Concatination4(x, g_edge_index))\n",
    "        # x = self.dropout(x)\n",
    "        # x = F.leaky_relu(self.Concatination5(x, g_edge_index))\n",
    "        # x = self.dropout(x)\n",
    "        \n",
    "        # x = F.leaky_relu(self.lin1(x))\n",
    "        # x = self.dropout(x)\n",
    "        # x = F.leaky_relu(self.lin2(x))\n",
    "        # x = self.dropout(x)\n",
    "        \n",
    "        \n",
    "        width = F.leaky_relu(self.width_layer1(x))\n",
    "        # width = F.leaky_relu(self.width_layer2(width))\n",
    "        # width = F.leaky_relu(self.width_layer3(width))\n",
    "        # width = F.leaky_relu(self.width_layer4(width))\n",
    "        width = self.dropout(width)\n",
    "        width = self.width_output(width)\n",
    "        \n",
    "        height = F.leaky_relu(self.height_layer1(x))\n",
    "        # height = F.leaky_relu(self.height_layer2(height))\n",
    "        # height = F.leaky_relu(self.height_layer3(height))\n",
    "        # height = F.leaky_relu(self.height_layer4(height))\n",
    "        height = self.dropout(height)\n",
    "        height = self.height_output(height)\n",
    "        \n",
    "        return width.squeeze(), height.squeeze()\n",
    "\n",
    "num_graph_node_features = Graphs_pyTorch[0].x.shape[1]\n",
    "num_boundary_node_features = Boundaries_pyTorch[0].x.shape[1]\n",
    "\n",
    "model = GATNet(num_graph_node_features, num_boundary_node_features)\n",
    "\n",
    "device = torch.device('cuda' if torch.cuda.is_available() else 'cpu')\n",
    "model = model.to(device)\n",
    "\n",
    "# to monitor the loss & accuracy.\n",
    "errors = []\n",
    "acc = []\n",
    "\n",
    "model"
   ]
  },
  {
   "cell_type": "code",
   "execution_count": 21,
   "metadata": {},
   "outputs": [
    {
     "ename": "RuntimeError",
     "evalue": "Error(s) in loading state_dict for GATNet:Missing key(s) in state_dict: \"graph_conv1.lin.weight\", \"graph_conv2.lin.weight\", \"graph_conv3.lin.weight\", \"graph_conv4.lin.weight\", \"boundary_conv1.lin.weight\", \"boundary_conv2.lin.weight\", \"Concatination1.lin.weight\". \n\tUnexpected key(s) in state_dict: \"graph_conv1.lin_src.weight\", \"graph_conv1.lin_dst.weight\", \"graph_conv2.lin_src.weight\", \"graph_conv2.lin_dst.weight\", \"graph_conv3.lin_src.weight\", \"graph_conv3.lin_dst.weight\", \"graph_conv4.lin_src.weight\", \"graph_conv4.lin_dst.weight\", \"boundary_conv1.lin_src.weight\", \"boundary_conv1.lin_dst.weight\", \"boundary_conv2.lin_src.weight\", \"boundary_conv2.lin_dst.weight\", \"Concatination1.lin_src.weight\", \"Concatination1.lin_dst.weight\". ",
     "output_type": "error",
     "traceback": [
      "\u001b[1;31m---------------------------------------------------------------------------\u001b[0m",
      "\u001b[1;31mRuntimeError\u001b[0m                              Traceback (most recent call last)",
      "Cell \u001b[1;32mIn[21], line 7\u001b[0m\n\u001b[0;32m      2\u001b[0m checkpoint \u001b[38;5;241m=\u001b[39m torch\u001b[38;5;241m.\u001b[39mload(checkpoint_path)\n\u001b[0;32m      4\u001b[0m optimizer \u001b[38;5;241m=\u001b[39m torch\u001b[38;5;241m.\u001b[39moptim\u001b[38;5;241m.\u001b[39mAdam(model\u001b[38;5;241m.\u001b[39mparameters(), lr\u001b[38;5;241m=\u001b[39m\u001b[38;5;241m0.001\u001b[39m)\n\u001b[1;32m----> 7\u001b[0m \u001b[43mmodel\u001b[49m\u001b[38;5;241;43m.\u001b[39;49m\u001b[43mload_state_dict\u001b[49m\u001b[43m(\u001b[49m\u001b[43mcheckpoint\u001b[49m\u001b[43m[\u001b[49m\u001b[38;5;124;43m'\u001b[39;49m\u001b[38;5;124;43mmodel_state_dict\u001b[39;49m\u001b[38;5;124;43m'\u001b[39;49m\u001b[43m]\u001b[49m\u001b[43m)\u001b[49m\n\u001b[0;32m      8\u001b[0m optimizer\u001b[38;5;241m.\u001b[39mload_state_dict(checkpoint[\u001b[38;5;124m'\u001b[39m\u001b[38;5;124moptimizer_state_dict\u001b[39m\u001b[38;5;124m'\u001b[39m])\n\u001b[0;32m      9\u001b[0m epochs \u001b[38;5;241m=\u001b[39m checkpoint[\u001b[38;5;124m'\u001b[39m\u001b[38;5;124mepoch\u001b[39m\u001b[38;5;124m'\u001b[39m]\n",
      "File \u001b[1;32mc:\\Users\\K.Sriram\\AppData\\Local\\Programs\\Python\\Python311\\Lib\\site-packages\\torch\\nn\\modules\\module.py:2189\u001b[0m, in \u001b[0;36mModule.load_state_dict\u001b[1;34m(self, state_dict, strict, assign)\u001b[0m\n\u001b[0;32m   2184\u001b[0m         error_msgs\u001b[38;5;241m.\u001b[39minsert(\n\u001b[0;32m   2185\u001b[0m             \u001b[38;5;241m0\u001b[39m, \u001b[38;5;124m'\u001b[39m\u001b[38;5;124mMissing key(s) in state_dict: \u001b[39m\u001b[38;5;132;01m{}\u001b[39;00m\u001b[38;5;124m. \u001b[39m\u001b[38;5;124m'\u001b[39m\u001b[38;5;241m.\u001b[39mformat(\n\u001b[0;32m   2186\u001b[0m                 \u001b[38;5;124m'\u001b[39m\u001b[38;5;124m, \u001b[39m\u001b[38;5;124m'\u001b[39m\u001b[38;5;241m.\u001b[39mjoin(\u001b[38;5;124mf\u001b[39m\u001b[38;5;124m'\u001b[39m\u001b[38;5;124m\"\u001b[39m\u001b[38;5;132;01m{\u001b[39;00mk\u001b[38;5;132;01m}\u001b[39;00m\u001b[38;5;124m\"\u001b[39m\u001b[38;5;124m'\u001b[39m \u001b[38;5;28;01mfor\u001b[39;00m k \u001b[38;5;129;01min\u001b[39;00m missing_keys)))\n\u001b[0;32m   2188\u001b[0m \u001b[38;5;28;01mif\u001b[39;00m \u001b[38;5;28mlen\u001b[39m(error_msgs) \u001b[38;5;241m>\u001b[39m \u001b[38;5;241m0\u001b[39m:\n\u001b[1;32m-> 2189\u001b[0m     \u001b[38;5;28;01mraise\u001b[39;00m \u001b[38;5;167;01mRuntimeError\u001b[39;00m(\u001b[38;5;124m'\u001b[39m\u001b[38;5;124mError(s) in loading state_dict for \u001b[39m\u001b[38;5;132;01m{}\u001b[39;00m\u001b[38;5;124m:\u001b[39m\u001b[38;5;132;01m{}\u001b[39;00m\u001b[38;5;124m'\u001b[39m\u001b[38;5;241m.\u001b[39mformat(\n\u001b[0;32m   2190\u001b[0m                        \u001b[38;5;28mself\u001b[39m\u001b[38;5;241m.\u001b[39m\u001b[38;5;18m__class__\u001b[39m\u001b[38;5;241m.\u001b[39m\u001b[38;5;18m__name__\u001b[39m, \u001b[38;5;124m\"\u001b[39m\u001b[38;5;130;01m\\n\u001b[39;00m\u001b[38;5;130;01m\\t\u001b[39;00m\u001b[38;5;124m\"\u001b[39m\u001b[38;5;241m.\u001b[39mjoin(error_msgs)))\n\u001b[0;32m   2191\u001b[0m \u001b[38;5;28;01mreturn\u001b[39;00m _IncompatibleKeys(missing_keys, unexpected_keys)\n",
      "\u001b[1;31mRuntimeError\u001b[0m: Error(s) in loading state_dict for GATNet:Missing key(s) in state_dict: \"graph_conv1.lin.weight\", \"graph_conv2.lin.weight\", \"graph_conv3.lin.weight\", \"graph_conv4.lin.weight\", \"boundary_conv1.lin.weight\", \"boundary_conv2.lin.weight\", \"Concatination1.lin.weight\". \n\tUnexpected key(s) in state_dict: \"graph_conv1.lin_src.weight\", \"graph_conv1.lin_dst.weight\", \"graph_conv2.lin_src.weight\", \"graph_conv2.lin_dst.weight\", \"graph_conv3.lin_src.weight\", \"graph_conv3.lin_dst.weight\", \"graph_conv4.lin_src.weight\", \"graph_conv4.lin_dst.weight\", \"boundary_conv1.lin_src.weight\", \"boundary_conv1.lin_dst.weight\", \"boundary_conv2.lin_src.weight\", \"boundary_conv2.lin_dst.weight\", \"Concatination1.lin_src.weight\", \"Concatination1.lin_dst.weight\". "
     ]
    }
   ],
   "source": [
    "checkpoint_path = \"C:\\\\Users\\\\K.Sriram\\\\Downloads\\\\archive\\\\checkpoints\\\\GAT-Net_v3_UnScalled.pt\"\n",
    "checkpoint = torch.load(checkpoint_path)\n",
    "\n",
    "optimizer = torch.optim.Adam(model.parameters(), lr=0.001)\n",
    "\n",
    "\n",
    "model.load_state_dict(checkpoint['model_state_dict'])\n",
    "optimizer.load_state_dict(checkpoint['optimizer_state_dict'])\n",
    "epochs = checkpoint['epoch']\n",
    "\n",
    "model.eval()"
   ]
  },
  {
   "cell_type": "code",
   "execution_count": null,
   "metadata": {},
   "outputs": [
    {
     "data": {
      "text/plain": [
       "GATNet(\n",
       "  (graph_conv1): GATConv(9, 32, heads=4)\n",
       "  (graph_conv2): GATConv(137, 32, heads=8)\n",
       "  (graph_conv3): GATConv(265, 64, heads=8)\n",
       "  (graph_conv4): GATConv(521, 128, heads=8)\n",
       "  (boundary_conv1): GATConv(3, 32, heads=4)\n",
       "  (boundary_conv2): GATConv(131, 32, heads=8)\n",
       "  (Concatination1): GATConv(1292, 128, heads=8)\n",
       "  (width_layer1): Linear(in_features=1024, out_features=128, bias=True)\n",
       "  (height_layer1): Linear(in_features=1024, out_features=128, bias=True)\n",
       "  (width_output): Linear(in_features=128, out_features=1, bias=True)\n",
       "  (height_output): Linear(in_features=128, out_features=1, bias=True)\n",
       "  (boundary_pool): AdaptiveAvgPool1d(output_size=1)\n",
       "  (dropout): Dropout(p=0.2, inplace=False)\n",
       ")"
      ]
     },
     "execution_count": 29,
     "metadata": {},
     "output_type": "execute_result"
    }
   ],
   "source": [
    "import torch\n",
    "\n",
    "# Load the checkpoint\n",
    "checkpoint_path = \"C:\\\\Users\\\\K.Sriram\\\\Downloads\\\\archive\\\\checkpoints\\\\GAT-Net_v3_UnScalled.pt\"\n",
    "checkpoint = torch.load(checkpoint_path)\n",
    "\n",
    "# Remap the state dict keys to match the model's expectations\n",
    "state_dict = checkpoint['model_state_dict']\n",
    "new_state_dict = {}\n",
    "\n",
    "for key, value in state_dict.items():\n",
    "    if key.endswith(\"lin_src.weight\"):\n",
    "        new_key = key.replace(\"lin_src.weight\", \"lin.weight\")\n",
    "    elif key.endswith(\"lin_dst.weight\"):\n",
    "        continue  # Skip destination-specific weights\n",
    "    else:\n",
    "        new_key = key\n",
    "    new_state_dict[new_key] = value\n",
    "\n",
    "# Load the remapped state dict into the model\n",
    "model.load_state_dict(new_state_dict, strict=False)\n",
    "\n",
    "# Load other checkpoint details if necessary\n",
    "optimizer.load_state_dict(checkpoint['optimizer_state_dict'])\n",
    "start_epoch = checkpoint['epoch']\n",
    "model.eval()\n"
   ]
  },
  {
   "cell_type": "code",
   "execution_count": null,
   "metadata": {},
   "outputs": [],
   "source": [
    "class FloorPlan_multipolygon():\n",
    "    def __init__(self, graph, prediction=None):\n",
    "        self.graph       = graph\n",
    "        self.prediction  = prediction\n",
    "        \n",
    "    def get_room_data(self, room_index):\n",
    "        \"\"\"\n",
    "        Inputs: \n",
    "            room_index: index of the room in the graph\n",
    "            \n",
    "        Outputs: \n",
    "            centroid, w, h of that room.\n",
    "        \"\"\"\n",
    "        # # Using networkX graphs\n",
    "        # Graph_data = list(self.graph.nodes(data=True))[room_index][1]\n",
    "        # w = Graph_data['rec_w']\n",
    "        # h = Graph_data['rec_h']\n",
    "        # centroid = (Graph_data['actualCentroid_x'], Graph_data['actualCentroid_y'])\n",
    "        # category = Graph_data['roomType_embd']\n",
    "        \n",
    "        # Using pytorhc Garphs\n",
    "        w = self.graph.rec_w[room_index].item()\n",
    "        h = self.graph.rec_h[room_index].item()\n",
    "        centroid = (self.graph.x[room_index][-2].item(), self.graph.x[room_index][-1].item())\n",
    "        category = torch.argmax(self.graph.x[:, :7][room_index]).item()\n",
    "        \n",
    "        if isinstance(self.prediction, tuple): # A  real array of predictions\n",
    "            w_pre, h_pre = self.get_predictions(room_index)\n",
    "            \n",
    "        else:\n",
    "            w_pre, h_pre = None, None\n",
    "            \n",
    "        data = {\n",
    "            'centroid': centroid,\n",
    "            'real_w': w,\n",
    "            'real_h': h, \n",
    "            'predic_w': w_pre,\n",
    "            'predic_h': h_pre,\n",
    "            'category': category\n",
    "        }\n",
    "        return data\n",
    "    \n",
    "    def create_box(self, room_data):\n",
    "        \"\"\"\n",
    "        Inputs:\n",
    "            room_data: a dictionary with centroid, w, h of that room.\n",
    "            \n",
    "        Outputs:\n",
    "            box: a shapely box with the same centroid, w, h of that room.\n",
    "        \"\"\"\n",
    "        \n",
    "        centroid = room_data['centroid']\n",
    "        # print(centroid)\n",
    "        if isinstance(self.prediction, tuple): # A  real array of predictions\n",
    "            half_w   = room_data['predic_w'] / 2\n",
    "            half_h   = room_data['predic_h'] / 2\n",
    "        \n",
    "        else:\n",
    "            half_w   = room_data['real_w'] / 2\n",
    "            half_h   = room_data['real_h'] / 2\n",
    "\n",
    "        # bottom_left  = Point(centroid[0] - half_w, centroid[1] - half_h)\n",
    "        # bottom_right = Point(centroid[0] + half_w, centroid[1] - half_h)\n",
    "        # top_right    = Point(centroid[0] + half_w, centroid[1] + half_h)\n",
    "        # top_left     = Point(centroid[0] - half_w, centroid[1] + half_h)\n",
    "        \n",
    "        x1 = centroid[0] - half_w\n",
    "        x2 = centroid[0] + half_w\n",
    "        y1 = centroid[1] - half_h\n",
    "        y2 = centroid[1] + half_h\n",
    "        \n",
    "        # print(bottom_left, bottom_right, top_right, top_left)\n",
    "        # box = Polygon([bottom_left, bottom_right, top_right, top_left])\n",
    "        box_poly = box(x1, y1, x2, y2)\n",
    "        return box_poly\n",
    "\n",
    "    def get_multipoly(self, boundary=False, door=False):\n",
    "        \"\"\"\n",
    "        Outputs:\n",
    "            multi_poly: a shapely multipolygon of all the rooms in the floor plan or graph.\n",
    "        \"\"\"\n",
    "        num_of_rooms = self.graph.x.shape[0]\n",
    "        similar_polygons = defaultdict(list)\n",
    "        \n",
    "        for index in range(num_of_rooms):\n",
    "            room_data = self.get_room_data(index)\n",
    "            box = self.create_box(room_data)\n",
    "            box = box.intersection(boundary.buffer(-3, cap_style=3, join_style=2))\n",
    "        \n",
    "            # add each pox to its similar boxes\n",
    "            room_category = room_data['category']\n",
    "            if room_category != 0:\n",
    "                similar_polygons[room_category].append(box)\n",
    "        \n",
    "\n",
    "        all_polygons = []\n",
    "        all_polygons.append(boundary)\n",
    "        similar_polygons_2 = defaultdict(list)\n",
    "        for room_category, polygons in similar_polygons.items():\n",
    "            if room_category in (2, 3): # If bathroom or kitchen.\n",
    "                # combined_polygon = unary_union(polygons)\n",
    "                # all_polygons.append(combined_polygon)\n",
    "                # for poly in polygons:\n",
    "                #     similar_polygons_2[room_category].append(poly)\n",
    "                \n",
    "                for bath_or_kitchen in polygons:\n",
    "                    if any(bath_or_kitchen.intersects(room) for room in similar_polygons[1]): # Chcek if the current bathroom or kitchen intersectes with any room\n",
    "                        for i, room in enumerate(similar_polygons[1]):\n",
    "                            if bath_or_kitchen.intersects(room):\n",
    "                                intersection = bath_or_kitchen.intersection(room)\n",
    "                                if intersection.area >= (0.3 * bath_or_kitchen.area):\n",
    "                                    # new_bath_or_kitchen = intersection\n",
    "                                    print('>= 50%')\n",
    "                                    bath_or_kitchen = bath_or_kitchen.intersection(room.buffer(-3, cap_style=3, join_style=2))\n",
    "                                    # bath_or_kitchen   = room.intersection(bath_or_kitchen.buffer(-3, cap_style=3, join_style=3))\n",
    "                                else:\n",
    "                                    print('Not >= 50%')\n",
    "                                    ## If we need to cut from the room\n",
    "                                    # new_room = room.difference(intersection.buffer(50))\n",
    "                                    # similar_polygons[1][i] = new_room\n",
    "                                    \n",
    "                                    ## If we need to cut from the bathroom or kitchen\n",
    "                                    bath_or_kitchen = bath_or_kitchen.difference(intersection.buffer(4))\n",
    "                                    \n",
    "                    similar_polygons_2[room_category].append(bath_or_kitchen)\n",
    "\n",
    "            else: # If rooms\n",
    "                existing_polygons = []\n",
    "                for poly in polygons: # for room in rooms\n",
    "                    # print(f'Current poly: {poly.centroid}')\n",
    "                    if any(poly.intersects(exist) for exist in existing_polygons):\n",
    "                        for exist in existing_polygons:\n",
    "                            if poly.intersects(exist): # If there is an intersection between current poly and the checking polygon.\n",
    "                                # print(f'Intersects with: {exist.centroid}')\n",
    "                                intersection = poly.intersection(exist)\n",
    "                                if exist.area > poly.area:\n",
    "                                    # print('1')\n",
    "                                    difference_polygon = exist.difference(intersection.buffer(4))\n",
    "                                    \n",
    "                                    # We cut from the exist so we will remove the old version and add the new version.\n",
    "                                    similar_polygons_2[room_category].remove(exist)\n",
    "                                    similar_polygons_2[room_category].append(difference_polygon)\n",
    "                                    \n",
    "                                    # Also we add the current polygon.\n",
    "                                    similar_polygons_2[room_category].append(poly)\n",
    "                                    \n",
    "                                    # The same step we didi in similar_polygons_2 we make it here to make the existing_polys the same.\n",
    "                                    existing_polygons.remove(exist)\n",
    "                                    existing_polygons.append(difference_polygon)\n",
    "                                    \n",
    "                                    existing_polygons.append(poly)\n",
    "                                    \n",
    "                                else:\n",
    "                                    # print('2')\n",
    "                                    difference_polygon = poly.difference(intersection.buffer(4))\n",
    "                                    similar_polygons_2[room_category].append(difference_polygon)\n",
    "                                    # existing_polygons.append(difference_polygon)\n",
    "                                    # similar_polygons_2[room_category].append(exist)\n",
    "                                    \n",
    "                    else: # For the first one\n",
    "                        # print('No intersection')\n",
    "                        existing_polygons.append(poly)\n",
    "                        similar_polygons_2[room_category].append(poly)\n",
    "                        \n",
    "                        \n",
    "        for _, polygons in similar_polygons_2.items():\n",
    "            all_polygons.append(MultiPolygon(polygons))\n",
    "        \n",
    "        if door:\n",
    "            all_polygons.append(door)\n",
    "            \n",
    "        compined_polygons_seperated = gpd.GeoSeries(all_polygons)\n",
    "        \n",
    "        return compined_polygons_seperated\n",
    "        \n",
    "    def get_predictions(self, room_index):\n",
    "        \"\"\"\n",
    "        Inputs: \n",
    "            room_index: index of the room in the graph\n",
    "        outputs: \n",
    "            w_predicted: predicted width for that room\n",
    "            h_predicted: predicted width for that room\n",
    "        \"\"\"\n",
    "        w_predicted = self.prediction[0]\n",
    "        h_predicted = self.prediction[1]\n",
    "        \n",
    "        return w_predicted[room_index], h_predicted[room_index]"
   ]
  },
  {
   "cell_type": "code",
   "execution_count": null,
   "metadata": {},
   "outputs": [
    {
     "name": "stdout",
     "output_type": "stream",
     "text": [
      "-7\n"
     ]
    }
   ],
   "source": [
    "# rand = np.random.randint(0, 80000)\n",
    "Graph_index = -7\n",
    "print(Graph_index)\n",
    "# Graph and Boundary with normalized x, y\n",
    "G = Graphs_pyTorch[Graph_index]\n",
    "B = Boundaries_pyTorch[Graph_index]\n",
    "\n",
    "# Using the same data types in boundaries as in graphs, must for the model.\n",
    "B.x = B.x.to(G.x.dtype)\n",
    "B.edge_index = B.edge_index.to(G.edge_index.dtype)\n",
    "B.edge_attr = B.edge_attr.to(G.edge_attr.dtype)\n",
    "\n",
    "# Get our predictions\n",
    "predictions = model(G.to(device), B.to(device))\n",
    "\n",
    "\n",
    "# Get back the real x, y of the centroids to put them in their real places.\n",
    "G = Graphs_pyTorch[Graph_index]\n",
    "G.x[:, -2] = G.x[:, -2] * x_g_std + x_g_mean\n",
    "G.x[:, -1] = G.x[:, -1] * y_g_std + y_g_mean\n",
    "\n",
    "B.x[:, -2] = B.x[:, -2] * x_b_std + x_b_mean\n",
    "B.x[:, -1] = B.x[:, -1] * y_b_std + y_b_mean"
   ]
  },
  {
   "cell_type": "code",
   "execution_count": null,
   "metadata": {},
   "outputs": [
    {
     "data": {
      "image/svg+xml": [
       "<svg xmlns=\"http://www.w3.org/2000/svg\" xmlns:xlink=\"http://www.w3.org/1999/xlink\" width=\"100.0\" height=\"100.0\" viewBox=\"144.89483146067414 175.09707865168537 6.480000000000018 6.480000000000018\" preserveAspectRatio=\"xMinYMin meet\"><g transform=\"matrix(1,0,0,-1,0,356.67415730337075)\"><path fill-rule=\"evenodd\" fill=\"#66cc99\" stroke=\"#555555\" stroke-width=\"0.12960000000000035\" opacity=\"0.6\" d=\"M 151.13483146067415,178.33707865168537 L 151.12038564069073,178.04302723069668 L 151.07718730188384,177.75180768563698 L 151.0056524678708,177.46622461992197 L 150.90647005820801,177.1890283545901 L 150.7805952537192,176.9228884412074 L 150.6292402975818,176.67036795262658 L 150.45386282076237,176.43389879919442 L 150.25615180423378,176.21575830812574 L 150.0380113131651,176.01804729159716 L 149.80154215973295,175.84266981477774 L 149.54902167115213,175.6913148586403 L 149.28288175776942,175.5654400541515 L 149.00568549243755,175.46625764448873 L 148.72010242672255,175.39472281047568 L 148.42888288166284,175.3515244716688 L 148.13483146067415,175.33707865168537 L 147.84078003968546,175.3515244716688 L 147.54956049462575,175.39472281047568 L 147.26397742891075,175.46625764448873 L 146.98678116357888,175.5654400541515 L 146.72064125019617,175.6913148586403 L 146.46812076161535,175.84266981477774 L 146.2316516081832,176.01804729159716 L 146.01351111711452,176.21575830812574 L 145.81580010058593,176.43389879919442 L 145.6404226237665,176.67036795262658 L 145.4890676676291,176.9228884412074 L 145.36319286314028,177.1890283545901 L 145.2640104534775,177.46622461992197 L 145.19247561946446,177.75180768563698 L 145.14927728065757,178.04302723069668 L 145.13483146067415,178.33707865168537 L 145.14927728065757,178.63113007267407 L 145.19247561946446,178.92234961773377 L 145.2640104534775,179.20793268344877 L 145.36319286314028,179.48512894878064 L 145.4890676676291,179.75126886216336 L 145.6404226237665,180.00378935074417 L 145.81580010058593,180.2402585041763 L 146.01351111711452,180.458398995245 L 146.2316516081832,180.6561100117736 L 146.46812076161535,180.831487488593 L 146.72064125019617,180.98284244473044 L 146.98678116357888,181.10871724921924 L 147.26397742891075,181.207899658882 L 147.54956049462575,181.27943449289506 L 147.84078003968546,181.32263283170195 L 148.13483146067415,181.33707865168537 L 148.42888288166284,181.32263283170195 L 148.72010242672255,181.27943449289506 L 149.00568549243752,181.207899658882 L 149.28288175776942,181.10871724921924 L 149.54902167115213,180.98284244473044 L 149.80154215973295,180.831487488593 L 150.0380113131651,180.6561100117736 L 150.25615180423378,180.458398995245 L 150.45386282076237,180.24025850417632 L 150.6292402975818,180.00378935074417 L 150.7805952537192,179.75126886216336 L 150.90647005820801,179.48512894878064 L 151.0056524678708,179.20793268344877 L 151.07718730188384,178.92234961773377 L 151.12038564069073,178.63113007267407 L 151.13483146067415,178.33707865168537 z\" /></g></svg>"
      ],
      "text/plain": [
       "<POLYGON ((151.135 178.337, 151.12 178.043, 151.077 177.752, 151.006 177.466...>"
      ]
     },
     "execution_count": 32,
     "metadata": {},
     "output_type": "execute_result"
    }
   ],
   "source": [
    "the_door = Point(B.x[-1][1:].detach().cpu().numpy())\n",
    "the_door.buffer(3)"
   ]
  },
  {
   "cell_type": "code",
   "execution_count": null,
   "metadata": {},
   "outputs": [],
   "source": [
    "Bou_x = B.x[:-1, :]\n",
    "# Bou_x = B.x\n",
    "boundary_centroids = [(Bou_x[n-1, -2:][0].item(), Bou_x[n-1, -2:][1].item()) for n in range(len(Bou_x))]\n",
    "boundary_polygon = Polygon(boundary_centroids)\n",
    "\n",
    "\n",
    "hi = unary_union([boundary_polygon, the_door.buffer(10, cap_style=3, join_style=2)])\n",
    "gpd.GeoSeries(hi).plot(cmap='twilight');"
   ]
  },
  {
   "cell_type": "code",
   "execution_count": null,
   "metadata": {},
   "outputs": [],
   "source": [
    "inputs = G.x.detach().cpu().numpy()\n",
    "polys = defaultdict(list)\n",
    "\n",
    "for poly in inputs:\n",
    "    type = np.argmax(poly[:-2])\n",
    "    if type != 0:\n",
    "        point = poly[-2:]\n",
    "        polys[type].append(Point(point))\n",
    "\n",
    "Input_format = []\n",
    "Input_format.append(boundary_polygon)\n",
    "\n",
    "for _, points in polys.items():\n",
    "            Input_format.append(unary_union(points))\n",
    "            \n",
    "gpd.GeoSeries(Input_format).plot(cmap='twilight', figsize=(4, 4), alpha=1, linewidth=0.5, edgecolor='black');"
   ]
  },
  {
   "cell_type": "code",
   "execution_count": null,
   "metadata": {},
   "outputs": [],
   "source": [
    "f = FloorPlan_multipolygon(G, prediction=None)\n",
    "polys = f.get_multipoly(boundary_polygon, the_door);\n",
    "polys.plot(cmap='twilight', figsize=(4, 4), alpha=0.8, linewidth=0.8, edgecolor='black');"
   ]
  },
  {
   "cell_type": "code",
   "execution_count": null,
   "metadata": {},
   "outputs": [],
   "source": [
    "w = predictions[0].detach().cpu().numpy()\n",
    "h = predictions[1].detach().cpu().numpy()\n",
    "w_h_predicted = (w, h)\n",
    "\n",
    "test = FloorPlan_multipolygon(G, prediction=w_h_predicted)\n",
    "\n",
    "polys = test.get_multipoly(boundary_polygon, the_door);\n",
    "polys.plot(cmap='twilight', figsize=(4, 4), alpha=0.8, linewidth=0.8, edgecolor='black');"
   ]
  },
  {
   "cell_type": "code",
   "execution_count": null,
   "metadata": {},
   "outputs": [
    {
     "data": {
      "text/plain": [
       "<Axes: >"
      ]
     },
     "execution_count": 38,
     "metadata": {},
     "output_type": "execute_result"
    },
    {
     "data": {
      "image/png": "[encoded data removed]",
      "text/plain": [
       "<Figure size 600x600 with 1 Axes>"
      ]
     },
     "metadata": {},
     "output_type": "display_data"
    }
   ],
   "source": [
    "from shapely.geometry import Point, Polygon\n",
    "from shapely.ops import unary_union\n",
    "import shapely.affinity\n",
    "import geopandas as gpd\n",
    "\n",
    "# Function to get user input for constraints\n",
    "def get_user_constraints():\n",
    "    constraints = {}\n",
    "    \n",
    "    # Add nodes\n",
    "    add_nodes = []\n",
    "    while True:\n",
    "        add = input(\"Do you want to add a node? (yes/no): \").lower()\n",
    "        if add == \"yes\":\n",
    "            x = float(input(\"Enter x-coordinate of the node: \"))\n",
    "            y = float(input(\"Enter y-coordinate of the node: \"))\n",
    "            node_type = int(input(\"Enter node type (e.g., 1 for room, 2 for door): \"))\n",
    "            add_nodes.append({\"type\": node_type, \"position\": (x, y)})\n",
    "        else:\n",
    "            break\n",
    "    constraints[\"add_nodes\"] = add_nodes\n",
    "\n",
    "    # Remove nodes\n",
    "    remove_nodes = []\n",
    "    while True:\n",
    "        remove = input(\"Do you want to remove a node? (yes/no): \").lower()\n",
    "        if remove == \"yes\":\n",
    "            x = float(input(\"Enter x-coordinate of the node to remove: \"))\n",
    "            y = float(input(\"Enter y-coordinate of the node to remove: \"))\n",
    "            remove_nodes.append((x, y))\n",
    "        else:\n",
    "            break\n",
    "    constraints[\"remove_nodes\"] = remove_nodes\n",
    "\n",
    "    # Scale factor\n",
    "    scale_factor = float(input(\"Enter scale factor for the boundary (default 1.0): \") or 1.0)\n",
    "    constraints[\"scale_factor\"] = scale_factor\n",
    "\n",
    "    # Rotation angle\n",
    "    rotation_angle = float(input(\"Enter rotation angle for the boundary (default 0): \") or 0)\n",
    "    constraints[\"rotation_angle\"] = rotation_angle\n",
    "\n",
    "    return constraints\n",
    "\n",
    "# Function to apply user constraints\n",
    "def apply_user_constraints(graph, boundary_polygon, user_constraints):\n",
    "    add_nodes = user_constraints.get(\"add_nodes\", [])\n",
    "    remove_nodes = user_constraints.get(\"remove_nodes\", [])\n",
    "    scale_factor = user_constraints.get(\"scale_factor\", 1.0)\n",
    "    rotation_angle = user_constraints.get(\"rotation_angle\", 0)\n",
    "    \n",
    "    # Add nodes\n",
    "    for new_node in add_nodes:\n",
    "        graph[\"nodes\"].append(new_node)\n",
    "    \n",
    "    # Remove nodes\n",
    "    graph[\"nodes\"] = [node for node in graph[\"nodes\"] if node[\"position\"] not in remove_nodes]\n",
    "    \n",
    "    # Modify boundary polygon\n",
    "    modified_boundary_polygon = shapely.affinity.scale(boundary_polygon, xfact=scale_factor, yfact=scale_factor)\n",
    "    if rotation_angle != 0:\n",
    "        modified_boundary_polygon = shapely.affinity.rotate(modified_boundary_polygon, angle=rotation_angle)\n",
    "    \n",
    "    return graph, modified_boundary_polygon\n",
    "\n",
    "# Example boundary polygon and graph\n",
    "boundary_polygon = Polygon([(0, 0), (100, 0), (100, 100), (0, 100)])\n",
    "graph = {\"nodes\": [{\"type\": 1, \"position\": (20, 30)}, {\"type\": 2, \"position\": (50, 50)}]}\n",
    "\n",
    "# Get constraints from user\n",
    "user_constraints = get_user_constraints()\n",
    "\n",
    "# Apply constraints and update floor plan\n",
    "modified_graph, modified_boundary_polygon = apply_user_constraints(graph, boundary_polygon, user_constraints)\n",
    "\n",
    "# Visualize the updated floor plan\n",
    "polys = [modified_boundary_polygon] + [Point(node[\"position\"]) for node in modified_graph[\"nodes\"]]\n",
    "gpd.GeoSeries(polys).plot(cmap=\"twilight\", figsize=(6, 6), alpha=0.8, linewidth=0.5, edgecolor=\"black\")\n"
   ]
  },
  {
   "cell_type": "code",
   "execution_count": null,
   "metadata": {},
   "outputs": [
    {
     "name": "stdout",
     "output_type": "stream",
     "text": [
      "\n",
      "Room Types: {1: 'Living Room', 2: 'Bedroom', 3: 'Kitchen', 4: 'Bathroom'}\n",
      "\n",
      "Room Types: {1: 'Living Room', 2: 'Bedroom', 3: 'Kitchen', 4: 'Bathroom'}\n"
     ]
    },
    {
     "data": {
      "image/png": "[encoded data removed]",
      "text/plain": [
       "<Figure size 600x600 with 1 Axes>"
      ]
     },
     "metadata": {},
     "output_type": "display_data"
    }
   ],
   "source": [
    "from shapely.geometry import Point, Polygon, MultiPolygon\n",
    "from shapely.ops import unary_union\n",
    "import geopandas as gpd\n",
    "import numpy as np\n",
    "import matplotlib.pyplot as plt\n",
    "\n",
    "# Assuming the FloorPlan_multipolygon class is already defined\n",
    "class FloorPlan_multipolygon:\n",
    "    def __init__(self, graph, prediction=None):\n",
    "        self.graph = graph\n",
    "        self.prediction = prediction\n",
    "\n",
    "    def get_multipoly(self, boundary_polygon, door_polygon):\n",
    "        \"\"\"\n",
    "        Returns the multipolygon representing the floor plan,\n",
    "        combining the boundary and door geometry.\n",
    "        \"\"\"\n",
    "        return unary_union([boundary_polygon, door_polygon])\n",
    "\n",
    "# Function to interactively build floor plan\n",
    "def build_floorplan_with_user_input(G):\n",
    "    # Ask user for the number of rooms\n",
    "    num_rooms = int(input(\"How many rooms would you like to create? \"))\n",
    "    \n",
    "    room_types = ['Living Room', 'Bedroom', 'Kitchen', 'Bathroom']\n",
    "    room_name_to_type = {i + 1: room_types[i] for i in range(len(room_types))}\n",
    "    \n",
    "    # Default boundary polygon (rectangular floor) and door (1 meter wide)\n",
    "    boundary_coords = [(30, 30), (70, 30), (70, 70), (30, 70)]  # Example square boundary\n",
    "    boundary_polygon = Polygon(boundary_coords)\n",
    "    \n",
    "    # Default door position and size (1 meter wide, placed on the boundary)\n",
    "    door_x1, door_y1, door_x2, door_y2 = 55, 30, 55, 40  # Default door (1 meter wide)\n",
    "    door_polygon = Polygon([(door_x1, door_y1), (door_x2, door_y1), (door_x2, door_y2), (door_x1, door_y2)])\n",
    "\n",
    "    all_polys = []  # List to collect all room polygons\n",
    "    room_data = []\n",
    "    for _ in range(num_rooms):\n",
    "        # Ask for the room type (select from predefined options)\n",
    "        print(f\"\\nRoom Types: {room_name_to_type}\")\n",
    "        room_type_choice = int(input(f\"Choose a room type by number (1 to {len(room_types)}): \"))\n",
    "        room_name = room_name_to_type[room_type_choice]\n",
    "        \n",
    "        # Get room dimensions (width and height)\n",
    "        room_width = float(input(f\"Enter width of the {room_name} (in meters): \"))\n",
    "        room_height = float(input(f\"Enter height of the {room_name} (in meters): \"))\n",
    "        \n",
    "        # Store the room dimensions\n",
    "        room_data.append({\n",
    "            'name': room_name,\n",
    "            'width': room_width,\n",
    "            'height': room_height\n",
    "        })\n",
    "    \n",
    "    # Default door position and floor shape (already defined)\n",
    "    door_x1, door_y1, door_x2, door_y2 = 55, 30, 55, 40  # Default door (1 meter wide)\n",
    "    \n",
    "    # Positioning rooms inside the boundary\n",
    "    # Start placing rooms next to each other in a grid-like manner\n",
    "    current_x = 35  # Start position for rooms, keeping space from boundary\n",
    "    current_y = 35\n",
    "\n",
    "    for room_info in room_data:\n",
    "        room_name = room_info['name']\n",
    "        room_width = room_info['width']\n",
    "        room_height = room_info['height']\n",
    "        \n",
    "        # Check if room fits within the boundary and adjust position\n",
    "        if current_x + room_width > 70:  # If the room exceeds boundary width, move to next row\n",
    "            current_x = 35\n",
    "            current_y += room_height + 5  # Add some space between rows\n",
    "        \n",
    "        # Create the room polygon (rectangle for simplicity)\n",
    "        room_polygon = Polygon([(current_x, current_y),\n",
    "                                (current_x + room_width, current_y),\n",
    "                                (current_x + room_width, current_y + room_height),\n",
    "                                (current_x, current_y + room_height)])\n",
    "        \n",
    "        # Collect the room polygon (no plotting yet)\n",
    "        all_polys.append(room_polygon)\n",
    "\n",
    "        # Update current_x for next room\n",
    "        current_x += room_width + 5  # Add some space between rooms\n",
    "\n",
    "    # Once all rooms are added, generate the multipolygon\n",
    "    final_floor_plan = unary_union(all_polys + [door_polygon])\n",
    "    \n",
    "    # Convert the multipolygon to GeoSeries for plotting\n",
    "    gdf = gpd.GeoSeries([final_floor_plan])\n",
    "    \n",
    "    # Plot the generated floor plan without the boundary\n",
    "    gdf.plot(cmap='twilight', figsize=(6, 6), alpha=0.8, linewidth=0.8, edgecolor='black')\n",
    "    plt.title(\"Final Floor Plan (No Boundary)\")\n",
    "    plt.show()\n",
    "\n",
    "    return final_floor_plan\n",
    "\n",
    "# Example graph G (replace with actual data structure)\n",
    "class Graph:\n",
    "    def __init__(self):\n",
    "        self.x = np.zeros((0, 4))  # Empty feature matrix (e.g., room types, coordinates)\n",
    "\n",
    "# Initialize an empty graph (just for this example)\n",
    "G = Graph()\n",
    "\n",
    "# Call the function to interactively build the floor plan\n",
    "final_floor_plan = build_floorplan_with_user_input(G)\n"
   ]
  },
  {
   "cell_type": "code",
   "execution_count": null,
   "metadata": {},
   "outputs": [
    {
     "data": {
      "image/png": "[encoded data removed]",
      "text/plain": [
       "<Figure size 600x600 with 1 Axes>"
      ]
     },
     "metadata": {},
     "output_type": "display_data"
    },
    {
     "data": {
      "image/png": "[encoded data removed]",
      "text/plain": [
       "<Figure size 600x600 with 1 Axes>"
      ]
     },
     "metadata": {},
     "output_type": "display_data"
    },
    {
     "data": {
      "image/png": "[encoded data removed]",
      "text/plain": [
       "<Figure size 600x600 with 1 Axes>"
      ]
     },
     "metadata": {},
     "output_type": "display_data"
    },
    {
     "data": {
      "image/png": "[encoded data removed]",
      "text/plain": [
       "<Figure size 600x600 with 1 Axes>"
      ]
     },
     "metadata": {},
     "output_type": "display_data"
    },
    {
     "ename": "",
     "evalue": "",
     "output_type": "error",
     "traceback": [
      "\u001b[1;31mThe Kernel crashed while executing code in the current cell or a previous cell. \n",
      "\u001b[1;31mPlease review the code in the cell(s) to identify a possible cause of the failure. \n",
      "\u001b[1;31mClick <a href='https://aka.ms/vscodeJupyterKernelCrash'>here</a> for more info. \n",
      "\u001b[1;31mView Jupyter <a href='command:jupyter.viewOutput'>log</a> for further details."
     ]
    }
   ],
   "source": [
    "import tkinter as tk\n",
    "from tkinter import messagebox\n",
    "import matplotlib.pyplot as plt\n",
    "from shapely.geometry import Polygon\n",
    "from shapely.ops import unary_union\n",
    "import geopandas as gpd\n",
    "\n",
    "# Function to update the floor plan with user input\n",
    "def update_floorplan():\n",
    "    try:\n",
    "        room_name = room_type_var.get()\n",
    "        width = float(width_entry.get())\n",
    "        height = float(height_entry.get())\n",
    "        \n",
    "        # Store room dimensions\n",
    "        room_data.append({'name': room_name, 'width': width, 'height': height})\n",
    "        messagebox.showinfo(\"Room Added\", f\"{room_name} added successfully!\")\n",
    "        draw_floorplan()  # Update floor plan visualization\n",
    "        \n",
    "    except ValueError:\n",
    "        messagebox.showerror(\"Invalid Input\", \"Please enter valid dimensions.\")\n",
    "\n",
    "# Function to draw the floor plan\n",
    "def draw_floorplan():\n",
    "    current_x, current_y = 5, 5\n",
    "    all_polys = []\n",
    "    max_y_in_row = 0\n",
    "    \n",
    "    for room in room_data:\n",
    "        room_width, room_height = room['width'], room['height']\n",
    "        if current_x + room_width > 95:\n",
    "            current_x = 5\n",
    "            current_y += max_y_in_row + 5\n",
    "            max_y_in_row = 0\n",
    "        \n",
    "        # Create room polygon\n",
    "        room_polygon = Polygon([\n",
    "            (current_x, current_y),\n",
    "            (current_x + room_width, current_y),\n",
    "            (current_x + room_width, current_y + room_height),\n",
    "            (current_x, current_y + room_height)\n",
    "        ])\n",
    "        all_polys.append(room_polygon)\n",
    "        current_x += room_width + 5\n",
    "        max_y_in_row = max(max_y_in_row, room_height)\n",
    "    \n",
    "    # Visualize using GeoPandas\n",
    "    gdf = gpd.GeoSeries(all_polys)\n",
    "    gdf.plot(cmap='twilight', figsize=(6, 6), alpha=0.8, linewidth=0.8, edgecolor='black')\n",
    "    plt.title(\"Floor Plan\")\n",
    "    plt.show()\n",
    "\n",
    "# GUI setup\n",
    "root = tk.Tk()\n",
    "root.title(\"Interactive Floor Plan Designer\")\n",
    "root.geometry(\"400x300\")\n",
    "\n",
    "# Room data storage\n",
    "room_data = []\n",
    "\n",
    "# Room Type Dropdown\n",
    "room_type_var = tk.StringVar(root)\n",
    "room_type_var.set(\"Living Room\")\n",
    "tk.Label(root, text=\"Room Type:\").pack()\n",
    "room_type_menu = tk.OptionMenu(root, room_type_var, \"Living Room\", \"Bedroom\", \"Kitchen\", \"Bathroom\")\n",
    "room_type_menu.pack()\n",
    "\n",
    "# Width Entry\n",
    "tk.Label(root, text=\"Room Width (meters):\").pack()\n",
    "width_entry = tk.Entry(root)\n",
    "width_entry.pack()\n",
    "\n",
    "# Height Entry\n",
    "tk.Label(root, text=\"Room Height (meters):\").pack()\n",
    "height_entry = tk.Entry(root)\n",
    "height_entry.pack()\n",
    "\n",
    "# Add Room Button\n",
    "add_button = tk.Button(root, text=\"Add Room\", command=update_floorplan)\n",
    "add_button.pack()\n",
    "\n",
    "# Exit Button\n",
    "exit_button = tk.Button(root, text=\"Exit\", command=root.quit)\n",
    "exit_button.pack()\n",
    "\n",
    "# Start GUI loop\n",
    "root.mainloop()\n"
   ]
  }
 ],
 "metadata": {
  "kernelspec": {
   "display_name": "Python 3",
   "language": "python",
   "name": "python3"
  },
  "language_info": {
   "codemirror_mode": {
    "name": "ipython",
    "version": 3
   },
   "file_extension": ".py",
   "mimetype": "text/x-python",
   "name": "python",
   "nbconvert_exporter": "python",
   "pygments_lexer": "ipython3",
   "version": "3.11.9"
  }
 },
 "nbformat": 4,
 "nbformat_minor": 2
}
